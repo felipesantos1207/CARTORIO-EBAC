{
  "nbformat": 4,
  "nbformat_minor": 0,
  "metadata": {
    "colab": {
      "provenance": [],
      "authorship_tag": "ABX9TyNyEGBMkNjM7Kyzj2w8nYX1",
      "include_colab_link": true
    },
    "kernelspec": {
      "name": "python3",
      "display_name": "Python 3"
    },
    "language_info": {
      "name": "python"
    }
  },
  "cells": [
    {
      "cell_type": "markdown",
      "metadata": {
        "id": "view-in-github",
        "colab_type": "text"
      },
      "source": [
        "<a href=\"https://colab.research.google.com/github/felipesantos1207/CARTORIO-EBAC/blob/main/Boas_praticas.ipynb\" target=\"_parent\"><img src=\"https://colab.research.google.com/assets/colab-badge.svg\" alt=\"Open In Colab\"/></a>"
      ]
    },
    {
      "cell_type": "code",
      "execution_count": null,
      "metadata": {
        "id": "of0RmEwLjiti"
      },
      "outputs": [],
      "source": []
    },
    {
      "cell_type": "markdown",
      "source": [
        "Boas praticas"
      ],
      "metadata": {
        "id": "pNtliwaljwj5"
      }
    },
    {
      "cell_type": "code",
      "source": [
        "# Solicita o nome do usuario e o exibe\n",
        "nome_usuario = input('Por favor,insira seu nome:')\n",
        "print (f'Ola,{nome_usuario}!Bem- vindo ao sistema.')"
      ],
      "metadata": {
        "colab": {
          "base_uri": "https://localhost:8080/"
        },
        "id": "QMeAYuirjzFO",
        "outputId": "cbf20f5d-56c1-4da9-94c3-defa2aca2aae"
      },
      "execution_count": 10,
      "outputs": [
        {
          "output_type": "stream",
          "name": "stdout",
          "text": [
            "Por favor,insira seu nome:felipe\n",
            "Ola,felipe!Bem- vindo ao sistema.\n"
          ]
        }
      ]
    },
    {
      "cell_type": "code",
      "source": [
        "# Solicitar a idade do usuario e converte para inteiro\n",
        "\n",
        "idade_usuario= int(input('Por favor, insira sua idade'))"
      ],
      "metadata": {
        "colab": {
          "base_uri": "https://localhost:8080/"
        },
        "id": "tXOCvTMBlg18",
        "outputId": "76a9066a-d2b3-427e-98ca-4de86344fcba"
      },
      "execution_count": 18,
      "outputs": [
        {
          "name": "stdout",
          "output_type": "stream",
          "text": [
            "Por favor, insira sua idade34\n"
          ]
        }
      ]
    },
    {
      "cell_type": "code",
      "source": [
        "# Verificar se o usuario e maior de idade\n",
        "if idade_usuario >= 18:\n",
        "  print('Voce e maior de idade.')\n",
        "else:\n",
        "  print('Voce e menor de idade.')"
      ],
      "metadata": {
        "colab": {
          "base_uri": "https://localhost:8080/"
        },
        "id": "y3JO8Gbul6ZS",
        "outputId": "aeb7fcb8-8365-4cb5-a603-b7412d3db9f0"
      },
      "execution_count": 19,
      "outputs": [
        {
          "output_type": "stream",
          "name": "stdout",
          "text": [
            "Voce e maior de idade.\n"
          ]
        }
      ]
    }
  ]
}