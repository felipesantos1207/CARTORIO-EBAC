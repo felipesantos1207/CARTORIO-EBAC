{
  "nbformat": 4,
  "nbformat_minor": 0,
  "metadata": {
    "colab": {
      "provenance": [],
      "authorship_tag": "ABX9TyPt2lX/odHXKthdAnNMdgR8",
      "include_colab_link": true
    },
    "kernelspec": {
      "name": "python3",
      "display_name": "Python 3"
    },
    "language_info": {
      "name": "python"
    }
  },
  "cells": [
    {
      "cell_type": "markdown",
      "metadata": {
        "id": "view-in-github",
        "colab_type": "text"
      },
      "source": [
        "<a href=\"https://colab.research.google.com/github/felipesantos1207/CARTORIO-EBAC/blob/main/Codigos_iniciais.ipynb\" target=\"_parent\"><img src=\"https://colab.research.google.com/assets/colab-badge.svg\" alt=\"Open In Colab\"/></a>"
      ]
    },
    {
      "cell_type": "markdown",
      "source": [
        "Operadores Aritméticos"
      ],
      "metadata": {
        "id": "--QtXfChuqIv"
      }
    },
    {
      "cell_type": "code",
      "source": [
        "[] # subtração\n",
        "10-2"
      ],
      "metadata": {
        "colab": {
          "base_uri": "https://localhost:8080/"
        },
        "id": "xbQ7W1M7vTzz",
        "outputId": "f1369ba3-b268-42ed-ab4c-202bf4acc50d"
      },
      "execution_count": null,
      "outputs": [
        {
          "output_type": "execute_result",
          "data": {
            "text/plain": [
              "8"
            ]
          },
          "metadata": {},
          "execution_count": 2
        }
      ]
    },
    {
      "cell_type": "code",
      "source": [
        "# Multiplicação\n",
        "10  * 2"
      ],
      "metadata": {
        "colab": {
          "base_uri": "https://localhost:8080/"
        },
        "id": "adVA7SSmvadj",
        "outputId": "a663c8e9-3629-45b0-e8ac-be6bdb78311d"
      },
      "execution_count": null,
      "outputs": [
        {
          "output_type": "execute_result",
          "data": {
            "text/plain": [
              "20"
            ]
          },
          "metadata": {},
          "execution_count": 3
        }
      ]
    },
    {
      "cell_type": "code",
      "source": [
        "# Divisão\n",
        "10 / 2"
      ],
      "metadata": {
        "colab": {
          "base_uri": "https://localhost:8080/"
        },
        "id": "XnmhYBMbvh2D",
        "outputId": "372fec81-c667-415b-ad07-c44907a32045"
      },
      "execution_count": null,
      "outputs": [
        {
          "output_type": "execute_result",
          "data": {
            "text/plain": [
              "5.0"
            ]
          },
          "metadata": {},
          "execution_count": 4
        }
      ]
    },
    {
      "cell_type": "code",
      "source": [
        "# Divisão inteira\n",
        "10 // 2"
      ],
      "metadata": {
        "colab": {
          "base_uri": "https://localhost:8080/"
        },
        "id": "EYNzCttYvqFj",
        "outputId": "6b048900-0630-4041-e873-8cd3ca2d838e"
      },
      "execution_count": null,
      "outputs": [
        {
          "output_type": "execute_result",
          "data": {
            "text/plain": [
              "5"
            ]
          },
          "metadata": {},
          "execution_count": 5
        }
      ]
    },
    {
      "cell_type": "code",
      "source": [
        "# Resto da divisão\n",
        "10 % 2"
      ],
      "metadata": {
        "colab": {
          "base_uri": "https://localhost:8080/"
        },
        "id": "hLoAzbzKvvx8",
        "outputId": "320e2811-35fc-48dd-f56f-84193cfb0e58"
      },
      "execution_count": null,
      "outputs": [
        {
          "output_type": "execute_result",
          "data": {
            "text/plain": [
              "0"
            ]
          },
          "metadata": {},
          "execution_count": 6
        }
      ]
    },
    {
      "cell_type": "code",
      "source": [
        "# Potenciação\n",
        "10 ** 2"
      ],
      "metadata": {
        "colab": {
          "base_uri": "https://localhost:8080/"
        },
        "id": "zp1hdQZ6v7Om",
        "outputId": "08061f30-4add-42f9-ebe7-ec288f41efc0"
      },
      "execution_count": null,
      "outputs": [
        {
          "output_type": "execute_result",
          "data": {
            "text/plain": [
              "100"
            ]
          },
          "metadata": {},
          "execution_count": 7
        }
      ]
    },
    {
      "cell_type": "code",
      "source": [
        "[] # adição\n",
        "10+2\n"
      ],
      "metadata": {
        "colab": {
          "base_uri": "https://localhost:8080/"
        },
        "id": "XSH2Z8jes6e5",
        "outputId": "723cbb1b-2b6e-41ed-800d-498271ca6329"
      },
      "execution_count": null,
      "outputs": [
        {
          "output_type": "execute_result",
          "data": {
            "text/plain": [
              "12"
            ]
          },
          "metadata": {},
          "execution_count": 28
        }
      ]
    },
    {
      "cell_type": "code",
      "source": [],
      "metadata": {
        "id": "2L8bvmCcvF7D"
      },
      "execution_count": null,
      "outputs": []
    },
    {
      "cell_type": "markdown",
      "source": [
        "Operadores Relacionais"
      ],
      "metadata": {
        "id": "zsU-vPJawMgG"
      }
    },
    {
      "cell_type": "code",
      "source": [
        "# Menor\n",
        "10 <2"
      ],
      "metadata": {
        "colab": {
          "base_uri": "https://localhost:8080/"
        },
        "id": "2XEZH4WawlBG",
        "outputId": "d264e6e5-e3ac-4a8a-9ed3-e19d0cfbf6ba"
      },
      "execution_count": null,
      "outputs": [
        {
          "output_type": "execute_result",
          "data": {
            "text/plain": [
              "False"
            ]
          },
          "metadata": {},
          "execution_count": 10
        }
      ]
    },
    {
      "cell_type": "code",
      "source": [
        "# Menor ou igual\n",
        "10 <= 2"
      ],
      "metadata": {
        "colab": {
          "base_uri": "https://localhost:8080/"
        },
        "id": "3qp22nYnwv48",
        "outputId": "316073cd-7d1e-4398-b07a-543d91ec52f6"
      },
      "execution_count": null,
      "outputs": [
        {
          "output_type": "execute_result",
          "data": {
            "text/plain": [
              "False"
            ]
          },
          "metadata": {},
          "execution_count": 11
        }
      ]
    },
    {
      "cell_type": "code",
      "source": [
        "# Maior\n",
        "10>2"
      ],
      "metadata": {
        "colab": {
          "base_uri": "https://localhost:8080/"
        },
        "id": "YBJmcfAJxO5k",
        "outputId": "c8929769-634b-42dc-b6e7-ab503bc51b6a"
      },
      "execution_count": null,
      "outputs": [
        {
          "output_type": "execute_result",
          "data": {
            "text/plain": [
              "True"
            ]
          },
          "metadata": {},
          "execution_count": 12
        }
      ]
    },
    {
      "cell_type": "code",
      "source": [
        "# Maior ou igual\n",
        "10 >= 2"
      ],
      "metadata": {
        "colab": {
          "base_uri": "https://localhost:8080/"
        },
        "id": "JO_iFJTuxWDT",
        "outputId": "0208ff63-c4fb-4410-c12a-547446f9e2b6"
      },
      "execution_count": null,
      "outputs": [
        {
          "output_type": "execute_result",
          "data": {
            "text/plain": [
              "True"
            ]
          },
          "metadata": {},
          "execution_count": 13
        }
      ]
    },
    {
      "cell_type": "code",
      "source": [
        "# Igual\n",
        "7 == 7"
      ],
      "metadata": {
        "colab": {
          "base_uri": "https://localhost:8080/"
        },
        "id": "8GCYaJzTxeFK",
        "outputId": "b457e8bc-4c3e-4fcf-a1d3-ae7c0208c36d"
      },
      "execution_count": null,
      "outputs": [
        {
          "output_type": "execute_result",
          "data": {
            "text/plain": [
              "True"
            ]
          },
          "metadata": {},
          "execution_count": 14
        }
      ]
    },
    {
      "cell_type": "code",
      "source": [
        "# Diferente\n",
        "7 != 7"
      ],
      "metadata": {
        "colab": {
          "base_uri": "https://localhost:8080/"
        },
        "id": "dGQelAXIxnt7",
        "outputId": "b84f0e15-1140-49d6-89ac-fc2ca46dcda3"
      },
      "execution_count": null,
      "outputs": [
        {
          "output_type": "execute_result",
          "data": {
            "text/plain": [
              "False"
            ]
          },
          "metadata": {},
          "execution_count": 15
        }
      ]
    },
    {
      "cell_type": "markdown",
      "source": [
        "Operadores Lógicos\n",
        ". And\n",
        ". Or\n",
        ". not\n",
        "-Tabela verdade\n",
        "\n",
        "-And\n"
      ],
      "metadata": {
        "id": "AmOCZDQ7yO7_"
      }
    },
    {
      "cell_type": "markdown",
      "source": [
        "Tabela Verdade"
      ],
      "metadata": {
        "id": "079VkgbezUnR"
      }
    },
    {
      "cell_type": "code",
      "source": [
        "\n",
        "[]\n",
        "print(10>2 and 4<6)  # V and V- V\n",
        "print(10>2 and 4>6)  # V and F- F\n",
        "print(10<2 and 4<6)  # F and V- F\n",
        "print(10<2 and 4>6)  # F and F- F"
      ],
      "metadata": {
        "colab": {
          "base_uri": "https://localhost:8080/"
        },
        "id": "UV706iR-0j85",
        "outputId": "81e7d64d-a656-45ff-d29d-442fda375635"
      },
      "execution_count": null,
      "outputs": [
        {
          "output_type": "stream",
          "name": "stdout",
          "text": [
            "True\n",
            "False\n",
            "False\n",
            "False\n"
          ]
        }
      ]
    },
    {
      "cell_type": "markdown",
      "source": [
        "Or"
      ],
      "metadata": {
        "id": "XtiN-jbo2-_5"
      }
    },
    {
      "cell_type": "code",
      "source": [
        "[ ]\n",
        "print(10>2 or 4<6)  # V or V -V\n",
        "print(10>2 or 4>6)  # V or F -V\n",
        "print(10<2 or 4<6)  # F or V- V\n",
        "print(10<2 or 4>6)  # F or F- F\n"
      ],
      "metadata": {
        "colab": {
          "base_uri": "https://localhost:8080/"
        },
        "id": "EdUCUt7b3IbM",
        "outputId": "4bb88b2c-98cc-4b90-f0bb-67e7f0d10a18"
      },
      "execution_count": null,
      "outputs": [
        {
          "output_type": "stream",
          "name": "stdout",
          "text": [
            "True\n",
            "True\n",
            "True\n",
            "False\n"
          ]
        }
      ]
    },
    {
      "cell_type": "code",
      "source": [
        "not 10>2  # V-F\n"
      ],
      "metadata": {
        "colab": {
          "base_uri": "https://localhost:8080/"
        },
        "id": "3bYiWJAz6NfO",
        "outputId": "b4325421-2756-4e5b-9625-cec2f3b9b6a1"
      },
      "execution_count": null,
      "outputs": [
        {
          "output_type": "execute_result",
          "data": {
            "text/plain": [
              "False"
            ]
          },
          "metadata": {},
          "execution_count": 50
        }
      ]
    },
    {
      "cell_type": "code",
      "source": [
        "not 10<2  # F-V\n"
      ],
      "metadata": {
        "colab": {
          "base_uri": "https://localhost:8080/"
        },
        "id": "v9oV38416d9l",
        "outputId": "9929d69d-9a4e-4d1b-cadc-69caafdab6f2"
      },
      "execution_count": null,
      "outputs": [
        {
          "output_type": "execute_result",
          "data": {
            "text/plain": [
              "True"
            ]
          },
          "metadata": {},
          "execution_count": 51
        }
      ]
    },
    {
      "cell_type": "markdown",
      "source": [
        "Condicional"
      ],
      "metadata": {
        "id": "NfvhzWDKzb7X"
      }
    },
    {
      "cell_type": "code",
      "source": [
        "#  IF\n",
        "if 5<10:\n",
        "  print(\"verdadeiro\")\n",
        "\n"
      ],
      "metadata": {
        "colab": {
          "base_uri": "https://localhost:8080/"
        },
        "id": "-wrW4XnQzeQQ",
        "outputId": "c8e592d8-6435-4e80-bfb0-a753c50782b6"
      },
      "execution_count": null,
      "outputs": [
        {
          "output_type": "stream",
          "name": "stdout",
          "text": [
            "verdadeiro\n"
          ]
        }
      ]
    },
    {
      "cell_type": "code",
      "source": [
        "# if/else\n",
        "num1 = 10\n",
        "num2 = 5\n",
        "\n",
        "if num1<num2:\n",
        "  print(\"o num1 é maior numero\")\n",
        "\n",
        "else:\n",
        "  print (\"o num2 é o maior numero\")"
      ],
      "metadata": {
        "colab": {
          "base_uri": "https://localhost:8080/"
        },
        "id": "NpTjpgLL0P_V",
        "outputId": "24515531-87f0-4914-8b91-bc695ccb0e8b"
      },
      "execution_count": null,
      "outputs": [
        {
          "output_type": "stream",
          "name": "stdout",
          "text": [
            "o num2 é o maior numero\n"
          ]
        }
      ]
    },
    {
      "cell_type": "code",
      "source": [
        "[] #if / Elif / else\n",
        "num1 = 10\n",
        "num2 = 10\n",
        "if num1 > num2:\n",
        "  print(\"o num1 é maior numero\")\n",
        "\n",
        "elif num1 < num2:\n",
        "    print(\"o num2 é o maior numero\")\n",
        "\n",
        "else:\n",
        "    print(\"os dois são iguais\")"
      ],
      "metadata": {
        "colab": {
          "base_uri": "https://localhost:8080/"
        },
        "id": "K4W-v6Pj1Wf0",
        "outputId": "ebd41135-3b54-43d9-f78a-09cbc34737bc"
      },
      "execution_count": null,
      "outputs": [
        {
          "output_type": "stream",
          "name": "stdout",
          "text": [
            "os dois são iguais\n"
          ]
        }
      ]
    },
    {
      "cell_type": "markdown",
      "source": [
        "Condicinal com operadores lógicos\n"
      ],
      "metadata": {
        "id": "urgJZ23-3klI"
      }
    },
    {
      "cell_type": "code",
      "source": [
        "num1 = 10\n",
        "num2 = 5\n",
        "num3 = 2\n",
        "\n",
        "if(num1>num2) and (num1>num3):\n",
        "  print(\"o num1 é maior numero\")\n",
        "\n",
        "else:\n",
        "  print(\" o num1 não é o maior numero\")"
      ],
      "metadata": {
        "colab": {
          "base_uri": "https://localhost:8080/"
        },
        "id": "T1R5hHxu3qGx",
        "outputId": "c5b62a89-8e7b-48bc-8cb8-e0329f3c4dbe"
      },
      "execution_count": null,
      "outputs": [
        {
          "output_type": "stream",
          "name": "stdout",
          "text": [
            "o num1 é maior numero\n"
          ]
        }
      ]
    },
    {
      "cell_type": "markdown",
      "source": [
        "Listas, tuplas e dicionários\n"
      ],
      "metadata": {
        "id": "LPMcJMV_5tj_"
      }
    },
    {
      "cell_type": "code",
      "source": [
        "# lista\n",
        "[1,2,3,4,5]\n"
      ],
      "metadata": {
        "colab": {
          "base_uri": "https://localhost:8080/"
        },
        "id": "UTC65DkA5zTP",
        "outputId": "d73de3ca-1277-4162-fead-7806f493d0a3"
      },
      "execution_count": null,
      "outputs": [
        {
          "output_type": "execute_result",
          "data": {
            "text/plain": [
              "[1, 2, 3, 4, 5]"
            ]
          },
          "metadata": {},
          "execution_count": 31
        }
      ]
    },
    {
      "cell_type": "code",
      "source": [
        "# tupla\n",
        "(1,2,3,4,5)\n"
      ],
      "metadata": {
        "colab": {
          "base_uri": "https://localhost:8080/"
        },
        "id": "ltr3TgQJ59BI",
        "outputId": "3f60dd17-f406-4ae0-b2d4-611e7516063b"
      },
      "execution_count": null,
      "outputs": [
        {
          "output_type": "execute_result",
          "data": {
            "text/plain": [
              "(1, 2, 3, 4, 5)"
            ]
          },
          "metadata": {},
          "execution_count": 30
        }
      ]
    },
    {
      "cell_type": "code",
      "source": [
        "# Dicionário\n",
        "{\"num1\": 1, \"num2\":2}"
      ],
      "metadata": {
        "colab": {
          "base_uri": "https://localhost:8080/"
        },
        "id": "SbNz58SM6FcF",
        "outputId": "2fe8ff01-2748-4e66-c6be-642f7480b19d"
      },
      "execution_count": null,
      "outputs": [
        {
          "output_type": "execute_result",
          "data": {
            "text/plain": [
              "{'num1': 1, 'num2': 2}"
            ]
          },
          "metadata": {},
          "execution_count": 29
        }
      ]
    },
    {
      "cell_type": "markdown",
      "source": [
        "Lista"
      ],
      "metadata": {
        "id": "dzaj34tz6qaz"
      }
    },
    {
      "cell_type": "code",
      "source": [
        "lista = [5, \"Rodrigo\",8.9]"
      ],
      "metadata": {
        "collapsed": true,
        "id": "PvboOmCm6uLE"
      },
      "execution_count": null,
      "outputs": []
    },
    {
      "cell_type": "code",
      "source": [
        "from typing import List\n",
        "[5]\n",
        "type(lista)\n",
        "\n",
        "List"
      ],
      "metadata": {
        "colab": {
          "base_uri": "https://localhost:8080/"
        },
        "id": "jjqKnoMc7FQj",
        "outputId": "a6fa546b-c42c-4fed-cac4-eeb44ef92ea6"
      },
      "execution_count": null,
      "outputs": [
        {
          "output_type": "execute_result",
          "data": {
            "text/plain": [
              "typing.List"
            ]
          },
          "metadata": {},
          "execution_count": 39
        }
      ]
    },
    {
      "cell_type": "code",
      "source": [
        "lista.append(\"Felipe\") # Adicionar elemento na lista\n",
        "[]\n",
        "print(lista)\n",
        "print(lista[1])"
      ],
      "metadata": {
        "colab": {
          "base_uri": "https://localhost:8080/"
        },
        "id": "2sFXsvQf7YQW",
        "outputId": "9b5106d3-6968-488b-ad3d-92fda43e0dbf"
      },
      "execution_count": null,
      "outputs": [
        {
          "output_type": "stream",
          "name": "stdout",
          "text": [
            "[5, 'Rodrigo', 8.9, 'Augusto', 'Augusto', 'Augusto', 'Felipe']\n",
            "Rodrigo\n"
          ]
        }
      ]
    },
    {
      "cell_type": "markdown",
      "source": [
        "Tupla"
      ],
      "metadata": {
        "id": "Y6RF6AOd85Dm"
      }
    },
    {
      "cell_type": "code",
      "source": [
        "tupla = (5, \"Rodrigo\", 8,9)\n",
        "\n"
      ],
      "metadata": {
        "id": "8zuGMnsS86m0"
      },
      "execution_count": null,
      "outputs": []
    },
    {
      "cell_type": "code",
      "source": [
        "type(tupla)"
      ],
      "metadata": {
        "colab": {
          "base_uri": "https://localhost:8080/"
        },
        "id": "OJplA1fp7Xr9",
        "outputId": "4f067240-ea64-48a9-aaf8-1f6ba22aedf9"
      },
      "execution_count": null,
      "outputs": [
        {
          "output_type": "execute_result",
          "data": {
            "text/plain": [
              "tuple"
            ]
          },
          "metadata": {},
          "execution_count": 46
        }
      ]
    },
    {
      "cell_type": "code",
      "source": [
        "[]\n",
        "tupla.append(\"Augusto\")"
      ],
      "metadata": {
        "colab": {
          "base_uri": "https://localhost:8080/",
          "height": 159
        },
        "id": "pvdeRe7x9MxQ",
        "outputId": "468a3c60-f8fa-4a19-97e3-3328a3372f63"
      },
      "execution_count": null,
      "outputs": [
        {
          "output_type": "error",
          "ename": "AttributeError",
          "evalue": "'tuple' object has no attribute 'append'",
          "traceback": [
            "\u001b[0;31m---------------------------------------------------------------------------\u001b[0m",
            "\u001b[0;31mAttributeError\u001b[0m                            Traceback (most recent call last)",
            "\u001b[0;32m<ipython-input-48-5d8184bcbdf9>\u001b[0m in \u001b[0;36m<cell line: 0>\u001b[0;34m()\u001b[0m\n\u001b[1;32m      1\u001b[0m \u001b[0;34m[\u001b[0m\u001b[0;34m]\u001b[0m\u001b[0;34m\u001b[0m\u001b[0;34m\u001b[0m\u001b[0m\n\u001b[0;32m----> 2\u001b[0;31m \u001b[0mtupla\u001b[0m\u001b[0;34m.\u001b[0m\u001b[0mappend\u001b[0m\u001b[0;34m(\u001b[0m\u001b[0;34m\"Augusto\"\u001b[0m\u001b[0;34m)\u001b[0m\u001b[0;34m\u001b[0m\u001b[0;34m\u001b[0m\u001b[0m\n\u001b[0m",
            "\u001b[0;31mAttributeError\u001b[0m: 'tuple' object has no attribute 'append'"
          ]
        }
      ]
    },
    {
      "cell_type": "code",
      "source": [
        "[]\n",
        "print(tupla)\n",
        "(5, \"Rodrigo\", 8.9)\n",
        "\n"
      ],
      "metadata": {
        "colab": {
          "base_uri": "https://localhost:8080/"
        },
        "id": "-G9kUYAj984t",
        "outputId": "eb711a68-86eb-4b60-aade-1a0265c927ee"
      },
      "execution_count": null,
      "outputs": [
        {
          "output_type": "stream",
          "name": "stdout",
          "text": [
            "(5, 'Rodrigo', 8, 9)\n"
          ]
        },
        {
          "output_type": "execute_result",
          "data": {
            "text/plain": [
              "(5, 'Rodrigo', 8.9)"
            ]
          },
          "metadata": {},
          "execution_count": 58
        }
      ]
    },
    {
      "cell_type": "markdown",
      "source": [
        "Dicionário"
      ],
      "metadata": {
        "id": "49XX9JaO9sfF"
      }
    },
    {
      "cell_type": "code",
      "source": [
        "[]\n",
        "Dicionario = {'nome':'Felipe','cidade': 'São Jose dos campos'}"
      ],
      "metadata": {
        "id": "jAj2gLKA-ztS"
      },
      "execution_count": null,
      "outputs": []
    },
    {
      "cell_type": "code",
      "source": [
        "type(Dicionario)"
      ],
      "metadata": {
        "colab": {
          "base_uri": "https://localhost:8080/"
        },
        "id": "VbHW2dwJ_aqp",
        "outputId": "4846e43a-9e67-4d8b-dd21-b58e8ac90180"
      },
      "execution_count": null,
      "outputs": [
        {
          "output_type": "execute_result",
          "data": {
            "text/plain": [
              "dict"
            ]
          },
          "metadata": {},
          "execution_count": 62
        }
      ]
    },
    {
      "cell_type": "code",
      "source": [
        "print(Dicionario)"
      ],
      "metadata": {
        "colab": {
          "base_uri": "https://localhost:8080/"
        },
        "id": "rRVQzjvT_gto",
        "outputId": "e714d101-c03a-41b0-bbe1-3e105a0fc711"
      },
      "execution_count": null,
      "outputs": [
        {
          "output_type": "stream",
          "name": "stdout",
          "text": [
            "{'nome': 'Felipe', 'cidade': 'São Jose dos campos'}\n"
          ]
        }
      ]
    },
    {
      "cell_type": "code",
      "source": [
        "[]\n",
        "print(Dicionario['nome'])"
      ],
      "metadata": {
        "colab": {
          "base_uri": "https://localhost:8080/"
        },
        "id": "VCr2K0SI_neS",
        "outputId": "d3e2e3e3-3a56-4b32-89ba-8bda0e6daa03"
      },
      "execution_count": null,
      "outputs": [
        {
          "output_type": "stream",
          "name": "stdout",
          "text": [
            "Felipe\n"
          ]
        }
      ]
    },
    {
      "cell_type": "code",
      "source": [
        "Dicionario['ultimo_nome']= 'Santos'"
      ],
      "metadata": {
        "id": "knRbQXwuAInb"
      },
      "execution_count": null,
      "outputs": []
    },
    {
      "cell_type": "code",
      "source": [
        "print(Dicionario)"
      ],
      "metadata": {
        "id": "1mYJD5VFAV2W",
        "outputId": "76c7b012-cc75-412b-c982-f9e76c90dd15",
        "colab": {
          "base_uri": "https://localhost:8080/"
        }
      },
      "execution_count": null,
      "outputs": [
        {
          "output_type": "stream",
          "name": "stdout",
          "text": [
            "{'nome': 'Felipe', 'cidade': 'São Jose dos campos', 'ultimo_nome': 'Santos'}\n"
          ]
        }
      ]
    },
    {
      "cell_type": "markdown",
      "source": [
        "Estrutura de repeticao\n"
      ],
      "metadata": {
        "id": "KkyrVe9UYAtt"
      }
    },
    {
      "cell_type": "markdown",
      "source": [
        "For"
      ],
      "metadata": {
        "id": "N2vbW7SVYFEJ"
      }
    },
    {
      "cell_type": "code",
      "source": [
        "# For range\n",
        "for contador in range(10):\n",
        "  print(contador)"
      ],
      "metadata": {
        "colab": {
          "base_uri": "https://localhost:8080/"
        },
        "id": "3miQAL9TYEB8",
        "outputId": "875db9d7-e5ad-4cd6-8d2b-d69c45419d34"
      },
      "execution_count": 8,
      "outputs": [
        {
          "output_type": "stream",
          "name": "stdout",
          "text": [
            "0\n",
            "1\n",
            "2\n",
            "3\n",
            "4\n",
            "5\n",
            "6\n",
            "7\n",
            "8\n",
            "9\n"
          ]
        }
      ]
    },
    {
      "cell_type": "code",
      "source": [
        "# For range + break\n",
        "for contador in range(1000):\n",
        "  print(contador)\n",
        "  if contador == 2:\n",
        "     break"
      ],
      "metadata": {
        "colab": {
          "base_uri": "https://localhost:8080/"
        },
        "collapsed": true,
        "id": "tw4rHLobZMXz",
        "outputId": "84c8ecfc-6707-4f53-df51-7a015be63e90"
      },
      "execution_count": 23,
      "outputs": [
        {
          "output_type": "stream",
          "name": "stdout",
          "text": [
            "0\n",
            "1\n",
            "2\n"
          ]
        }
      ]
    },
    {
      "cell_type": "code",
      "source": [],
      "metadata": {
        "id": "VR36vHq-ZN44"
      },
      "execution_count": null,
      "outputs": []
    },
    {
      "cell_type": "code",
      "source": [
        "lista = ['teste1','teste2']"
      ],
      "metadata": {
        "id": "VekzL72Aav_T"
      },
      "execution_count": 25,
      "outputs": []
    },
    {
      "cell_type": "code",
      "source": [
        "# for simples\n",
        "for val in lista:\n",
        "    print(val)\n"
      ],
      "metadata": {
        "colab": {
          "base_uri": "https://localhost:8080/"
        },
        "id": "eRwYlyuybDcA",
        "outputId": "9b5d5356-aaf4-4985-d18f-cc06a7285163"
      },
      "execution_count": 26,
      "outputs": [
        {
          "output_type": "stream",
          "name": "stdout",
          "text": [
            "teste1\n",
            "teste2\n"
          ]
        }
      ]
    },
    {
      "cell_type": "code",
      "source": [
        "# for com enumerate\n",
        "for i, val in enumerate (lista):\n",
        "  print(i,val)"
      ],
      "metadata": {
        "colab": {
          "base_uri": "https://localhost:8080/"
        },
        "id": "fgWQiHhgbSgQ",
        "outputId": "ce50679b-8adc-4b14-d0c8-4be676f6e254"
      },
      "execution_count": 27,
      "outputs": [
        {
          "output_type": "stream",
          "name": "stdout",
          "text": [
            "0 teste1\n",
            "1 teste2\n"
          ]
        }
      ]
    },
    {
      "cell_type": "markdown",
      "source": [
        "For operadores compostos"
      ],
      "metadata": {
        "id": "fjAAv6yGdqr8"
      }
    },
    {
      "cell_type": "code",
      "source": [
        "lista2 = [2,3,4]\n",
        "\n"
      ],
      "metadata": {
        "id": "jVs6H3rmdqOp"
      },
      "execution_count": 44,
      "outputs": []
    },
    {
      "cell_type": "code",
      "source": [
        "for val in lista2:\n",
        "  val += 1\n",
        "  print(val)"
      ],
      "metadata": {
        "colab": {
          "base_uri": "https://localhost:8080/"
        },
        "id": "WlKD-dzIds6g",
        "outputId": "b584de88-e483-48e5-ec43-42a2c2c7991f"
      },
      "execution_count": 52,
      "outputs": [
        {
          "output_type": "stream",
          "name": "stdout",
          "text": [
            "3\n",
            "4\n",
            "5\n"
          ]
        }
      ]
    },
    {
      "cell_type": "code",
      "source": [
        "for val in lista2:\n",
        "  val *= 2\n",
        "  print(val)"
      ],
      "metadata": {
        "colab": {
          "base_uri": "https://localhost:8080/"
        },
        "id": "_8Sbg7uxfB22",
        "outputId": "f73da085-cab0-446e-fd0d-08ae0fc2617b"
      },
      "execution_count": 50,
      "outputs": [
        {
          "output_type": "stream",
          "name": "stdout",
          "text": [
            "4\n",
            "6\n",
            "8\n"
          ]
        }
      ]
    },
    {
      "cell_type": "markdown",
      "source": [],
      "metadata": {
        "id": "bewox764fBe9"
      }
    },
    {
      "cell_type": "markdown",
      "source": [
        "While"
      ],
      "metadata": {
        "id": "i31PC0PdfpLj"
      }
    },
    {
      "cell_type": "code",
      "source": [
        "val = 1\n",
        "while (val<6):\n",
        "  val*= 2\n",
        "  print(val)"
      ],
      "metadata": {
        "colab": {
          "base_uri": "https://localhost:8080/"
        },
        "id": "rlmpdoxLft0T",
        "outputId": "dca9e1e5-7e81-4481-ffc5-50dd2a727fd4"
      },
      "execution_count": 53,
      "outputs": [
        {
          "output_type": "stream",
          "name": "stdout",
          "text": [
            "2\n",
            "4\n",
            "8\n"
          ]
        }
      ]
    },
    {
      "cell_type": "code",
      "source": [
        "# while com else\n",
        "val = 4\n",
        "while (val<6):\n",
        "  val*=2\n",
        "else:\n",
        "    print('valor que vai e:',val)\n"
      ],
      "metadata": {
        "colab": {
          "base_uri": "https://localhost:8080/"
        },
        "id": "L8ZI2_W0gs08",
        "outputId": "b5c382ca-47ad-4ada-cf7b-731a8b148a20"
      },
      "execution_count": 59,
      "outputs": [
        {
          "output_type": "stream",
          "name": "stdout",
          "text": [
            "valor que vai e: 8\n"
          ]
        }
      ]
    }
  ]
}