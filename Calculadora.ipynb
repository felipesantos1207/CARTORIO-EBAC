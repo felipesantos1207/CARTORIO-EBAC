{
  "nbformat": 4,
  "nbformat_minor": 0,
  "metadata": {
    "colab": {
      "provenance": [],
      "authorship_tag": "ABX9TyMgbZddKJ3rbR0v9T7+jD9p",
      "include_colab_link": true
    },
    "kernelspec": {
      "name": "python3",
      "display_name": "Python 3"
    },
    "language_info": {
      "name": "python"
    }
  },
  "cells": [
    {
      "cell_type": "markdown",
      "metadata": {
        "id": "view-in-github",
        "colab_type": "text"
      },
      "source": [
        "<a href=\"https://colab.research.google.com/github/felipesantos1207/CARTORIO-EBAC/blob/main/Calculadora.ipynb\" target=\"_parent\"><img src=\"https://colab.research.google.com/assets/colab-badge.svg\" alt=\"Open In Colab\"/></a>"
      ]
    },
    {
      "cell_type": "code",
      "source": [
        "[]\n",
        "\n",
        "#Usuário colocar o número que quer fazer a conta\n",
        "\n",
        "num1=input('Digite o primeiro numero:')#usuario coloca o numero\n",
        "operacao= input('escolha a operacao(+, -, *, /):')#usuario escolhe a operação\n",
        "num2=input('Digite o segundo numero:')#usuario coloca o segundo numeo\n",
        "\n",
        "#conversão de numero inteiro. Pode ser int inteiro ou float para numero com virgula\n",
        "\n",
        "num1=int(num1)#Opção foi numeiro inteiro\n",
        "num2=int(num2)\n",
        "\n",
        "#Operadores\n",
        "\n",
        "soma=(num1+num2)\n",
        "\n",
        "divisao=(num1/num2)\n",
        "\n",
        "subtracao=(num1-num2)\n",
        "\n",
        "multiplicacao=(num1*num2)\n",
        "\n",
        "#Resultado\n",
        "\n",
        "if operacao == '+': #Se a condição for verdadeira\n",
        "    resultado= (num1+num2)#soma\n",
        "    print(num1+num2)#soma\n",
        "\n",
        "elif operacao == '-':#Senão\n",
        "    resultado = (num1-num2)\n",
        "    print(num1-num2)#subtracao\n",
        "\n",
        "elif operacao == '*':\n",
        "    resultado = (num1*num2)\n",
        "    print(num1*num2)#multiplicacao\n",
        "\n",
        "\n",
        "elif operacao == '/':\n",
        "    resultado = (num1/num2)\n",
        "    print(num1/num2)#divisão\n",
        "\n",
        "\n",
        "# IF se = Primeiro teste\n",
        "# ELIF senão se = Quando e para testar outra condição\n",
        "# else Senão = Quando nenhuma condição for verdadeira\n",
        "\n"
      ],
      "metadata": {
        "colab": {
          "base_uri": "https://localhost:8080/"
        },
        "id": "K4n_vNIlmbFC",
        "outputId": "981e5345-2fe5-4415-a089-fd61acbb0b15"
      },
      "execution_count": 58,
      "outputs": [
        {
          "output_type": "stream",
          "name": "stdout",
          "text": [
            "Digite o primeiro numero:4\n",
            "escolha a operacao(+, -, *, /):+\n",
            "Digite o segundo numero:2\n",
            "6\n"
          ]
        }
      ]
    }
  ]
}